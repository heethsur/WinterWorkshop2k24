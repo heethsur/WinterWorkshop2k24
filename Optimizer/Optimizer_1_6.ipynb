{
 "cells": [
  {
   "cell_type": "code",
   "execution_count": 24,
   "metadata": {},
   "outputs": [],
   "source": [
    "import pandas as pd\n",
    "import numpy as np\n",
    "import matplotlib.pyplot as plt"
   ]
  },
  {
   "cell_type": "code",
   "execution_count": 25,
   "metadata": {},
   "outputs": [],
   "source": [
    "df = pd.read_csv('DATA.csv', index_col=0)\n",
    "df['expiration_C']=pd.to_datetime(df['expiration_C'])"
   ]
  },
  {
   "cell_type": "code",
   "execution_count": 26,
   "metadata": {},
   "outputs": [],
   "source": [
    "nasdaq = pd.read_csv('NASDAQ.csv')\n",
    "nasdaq['Date']=pd.to_datetime(nasdaq['Date'])"
   ]
  },
  {
   "cell_type": "code",
   "execution_count": 27,
   "metadata": {},
   "outputs": [],
   "source": [
    "newdf = pd.merge(df, nasdaq, how='left', left_on='expiration_C', right_on='Date')"
   ]
  },
  {
   "cell_type": "code",
   "execution_count": 28,
   "metadata": {},
   "outputs": [
    {
     "data": {
      "text/plain": [
       "56"
      ]
     },
     "execution_count": 28,
     "metadata": {},
     "output_type": "execute_result"
    }
   ],
   "source": [
    "newdf['expiration_C'].nunique()"
   ]
  },
  {
   "cell_type": "code",
   "execution_count": 29,
   "metadata": {},
   "outputs": [],
   "source": [
    "# adjusted strike is strike / implied S_y\n",
    "\n",
    "newdf['strike_adj'] = newdf['strike'] / newdf['implied_S_y']"
   ]
  },
  {
   "cell_type": "code",
   "execution_count": 30,
   "metadata": {},
   "outputs": [
    {
     "data": {
      "text/plain": [
       "count    10898.000000\n",
       "mean         0.990330\n",
       "std          0.155167\n",
       "min          0.504835\n",
       "25%          0.879193\n",
       "50%          0.989446\n",
       "75%          1.096986\n",
       "max          1.535656\n",
       "Name: strike_adj, dtype: float64"
      ]
     },
     "execution_count": 30,
     "metadata": {},
     "output_type": "execute_result"
    }
   ],
   "source": [
    "newdf['strike_adj'].describe()"
   ]
  },
  {
   "cell_type": "code",
   "execution_count": 31,
   "metadata": {},
   "outputs": [],
   "source": [
    "# pnl as the close price (from NASDAQ) - strike price - (bid+ask)/2\n",
    "\n",
    "newdf['pnl_long_Call'] =  np.max(newdf['Close/Last']-newdf['strike'])-(newdf['bid_1545_C']+newdf['ask_1545_C'])/2"
   ]
  },
  {
   "cell_type": "code",
   "execution_count": 32,
   "metadata": {},
   "outputs": [
    {
     "data": {
      "text/plain": [
       "8000.0    35\n",
       "9000.0    34\n",
       "8500.0    34\n",
       "8100.0    33\n",
       "8200.0    33\n",
       "          ..\n",
       "8770.0     1\n",
       "8760.0     1\n",
       "8740.0     1\n",
       "8730.0     1\n",
       "9370.0     1\n",
       "Name: strike, Length: 861, dtype: int64"
      ]
     },
     "execution_count": 32,
     "metadata": {},
     "output_type": "execute_result"
    }
   ],
   "source": [
    "# there is no common strike value for all the dates\n",
    "\n",
    "newdf.strike.value_counts()"
   ]
  },
  {
   "cell_type": "code",
   "execution_count": 33,
   "metadata": {},
   "outputs": [
    {
     "name": "stdout",
     "output_type": "stream",
     "text": [
      "118\n",
      "241\n"
     ]
    }
   ],
   "source": [
    "# different dates have different strike values\n",
    "\n",
    "print(len(newdf[newdf['expiration_C']=='2018-02-09']))\n",
    "print(len(newdf[newdf['expiration_C']=='2022-12-09']))"
   ]
  },
  {
   "cell_type": "code",
   "execution_count": 34,
   "metadata": {},
   "outputs": [
    {
     "name": "stdout",
     "output_type": "stream",
     "text": [
      "Requirement already satisfied: cvxpy in /Users/may/opt/miniconda3/envs/mlenv/lib/python3.9/site-packages (1.4.1)\n",
      "Requirement already satisfied: scipy>=1.1.0 in /Users/may/opt/miniconda3/envs/mlenv/lib/python3.9/site-packages (from cvxpy) (1.7.3)\n",
      "Requirement already satisfied: ecos>=2 in /Users/may/opt/miniconda3/envs/mlenv/lib/python3.9/site-packages (from cvxpy) (2.0.12)\n",
      "Requirement already satisfied: numpy>=1.15 in /Users/may/opt/miniconda3/envs/mlenv/lib/python3.9/site-packages (from cvxpy) (1.22.1)\n",
      "Requirement already satisfied: pybind11 in /Users/may/opt/miniconda3/envs/mlenv/lib/python3.9/site-packages (from cvxpy) (2.11.1)\n",
      "Requirement already satisfied: scs>=3.0 in /Users/may/opt/miniconda3/envs/mlenv/lib/python3.9/site-packages (from cvxpy) (3.2.4.post1)\n",
      "Requirement already satisfied: clarabel>=0.5.0 in /Users/may/opt/miniconda3/envs/mlenv/lib/python3.9/site-packages (from cvxpy) (0.6.0)\n",
      "Requirement already satisfied: osqp>=0.6.2 in /Users/may/opt/miniconda3/envs/mlenv/lib/python3.9/site-packages (from cvxpy) (0.6.3)\n",
      "Requirement already satisfied: qdldl in /Users/may/opt/miniconda3/envs/mlenv/lib/python3.9/site-packages (from osqp>=0.6.2->cvxpy) (0.1.7.post0)\n",
      "Note: you may need to restart the kernel to use updated packages.\n"
     ]
    }
   ],
   "source": [
    "pip install cvxpy"
   ]
  },
  {
   "cell_type": "markdown",
   "metadata": {},
   "source": [
    "Optimization problem is\n",
    "\n",
    "$$\n",
    "\\min_{\\sum w_i=1, w_i\\geq 0}\\{-\\mu^T*w+\\frac{\\gamma}{2} w^T\\Sigma w+\\frac{\\lambda}{2}*w^T*w\\}\n",
    "$$\n",
    "\n",
    "We let $\\Sigma$ be $\\Sigma+\\lambda*I_n$."
   ]
  },
  {
   "cell_type": "code",
   "execution_count": 35,
   "metadata": {},
   "outputs": [
    {
     "name": "stdout",
     "output_type": "stream",
     "text": [
      "\n",
      "The optimal value is -0.16726010355959875\n",
      "A solution w is\n",
      "[ 3.32007043e-03  6.38534056e-03  7.42725740e-03  5.17166029e-03\n",
      "  2.75412994e-03 -6.14404385e-25  7.04497008e-03  6.68660947e-03\n",
      "  1.90364686e-24  1.42443013e-24  1.86894750e-03  9.51735230e-24\n",
      "  3.52163073e-03  1.24801879e-03  8.93899358e-03 -4.89090159e-24\n",
      "  6.66180020e-03  1.05975189e-23  3.22537509e-03 -1.75312734e-24\n",
      "  4.43363687e-24  4.29820607e-03  3.80434434e-03  5.65774670e-03\n",
      "  3.21593876e-24 -3.91877108e-24  6.12439052e-03 -2.61097537e-24\n",
      " -7.60152484e-25  4.89048128e-03 -9.21931174e-24  5.63728803e-03\n",
      "  1.78631102e-24  2.31422759e-24  1.62577943e-24 -7.79979521e-24\n",
      "  1.96069560e-03  8.53365142e-03  4.89773287e-03 -6.08035397e-24\n",
      "  1.36181410e-24 -5.12136870e-24  3.43682732e-03  1.02910477e-03\n",
      "  3.99857361e-04  8.45284486e-24 -1.19645107e-24  9.47194576e-03\n",
      "  3.54285144e-03 -6.33830961e-25  7.18685189e-03  1.13145111e-23\n",
      "  7.28484059e-24  2.84514510e-24  4.16165575e-03  6.28804806e-03\n",
      "  5.18320411e-03  9.70880952e-03  4.94967588e-03  7.76157781e-03\n",
      " -1.33279973e-24  2.89388376e-03  4.15782331e-03  4.67708336e-24\n",
      "  3.97780933e-03  6.47771327e-24  8.58065953e-03  1.36249802e-03\n",
      "  7.12707577e-03  1.29867569e-24 -1.12021337e-24  2.96625272e-03\n",
      "  1.25483578e-02  3.52428831e-03  7.49126763e-03  3.21127313e-03\n",
      "  1.37946175e-03  4.65677777e-04  7.71033620e-03  4.17311571e-03\n",
      "  5.89307014e-24  9.76628643e-03  9.30552394e-05  5.49462961e-05\n",
      "  2.40526648e-03  3.61253811e-04  3.04494300e-03 -8.80348447e-25\n",
      "  2.69479545e-03  4.07862027e-25  5.76136064e-03 -4.70539397e-24\n",
      "  4.51865687e-03 -4.46487760e-24  3.96652172e-03  9.68860402e-04\n",
      "  1.31502507e-03  8.11895592e-03  9.24616939e-25  4.20251082e-03\n",
      "  6.02279442e-03  7.08460589e-03  5.40317907e-04  6.18897641e-03\n",
      "  2.16064786e-23 -5.71424722e-25  4.16758423e-03 -1.37417904e-23\n",
      " -2.81922452e-24  5.75654450e-24  9.85025609e-04  1.01460526e-23\n",
      "  2.30151533e-24  4.33113910e-03  1.03976335e-23  1.42783536e-24\n",
      "  6.13395077e-03 -7.31692261e-25  4.03744751e-03  8.90629517e-03\n",
      "  4.68969614e-24 -2.08266660e-24  4.53261703e-03  6.76252985e-03\n",
      " -4.77924924e-24  2.38562259e-03 -2.12521637e-24  2.49259203e-03\n",
      " -2.22490348e-24  1.01102342e-24  3.44833417e-03 -6.46449781e-24\n",
      "  1.24147347e-23  2.32922877e-03  2.68592242e-03  1.76956256e-24\n",
      "  2.70562496e-03  3.93381993e-03  2.55185357e-03  2.83630419e-03\n",
      "  6.82406472e-03  4.38620454e-03  2.81419338e-03 -1.13295867e-23\n",
      "  1.90670013e-03 -1.51869896e-24  8.13884386e-03  4.62312420e-03\n",
      "  4.69687776e-24  9.16299209e-03  2.34520303e-24  3.86107937e-24\n",
      "  4.31910882e-03  3.15542473e-24  3.54352865e-03 -3.90099550e-24\n",
      "  7.98006892e-03  2.80357900e-03  3.71373497e-24  1.51757188e-04\n",
      "  3.32897120e-24  6.06499740e-03  7.77688498e-03  3.68005542e-03\n",
      "  7.72829941e-04  3.19435331e-03 -9.92562696e-24  3.87883129e-03\n",
      "  2.10706661e-03  3.32350758e-24 -1.19974251e-24  7.12437880e-03\n",
      "  1.16346280e-02  4.45256854e-24  1.07417158e-05  3.52539213e-06\n",
      "  3.42353308e-03 -9.91217060e-24  5.42825250e-03  2.91673530e-24\n",
      "  4.50542188e-04  1.25658779e-03  3.85524909e-03  8.87667676e-04\n",
      " -5.25337221e-24  4.19309420e-03  4.81365641e-24  9.17233101e-25\n",
      "  3.32897245e-03  3.86663814e-24  1.14412596e-03 -3.33329272e-24\n",
      "  3.24540726e-03  1.02884288e-02  5.87959013e-03  1.40145715e-23\n",
      " -1.65064331e-24  1.62790689e-03  6.81360076e-04  1.08922848e-02\n",
      "  9.91800502e-24  1.26448879e-02  5.05621807e-24  6.91092317e-03\n",
      " -4.36358066e-24  1.02448632e-23  8.58344176e-25  2.65635675e-03\n",
      "  1.44917894e-03  6.67884490e-03 -3.47886110e-24  7.36484064e-24\n",
      "  5.44802123e-04  4.31792925e-24  2.88527949e-03  2.40887529e-03\n",
      "  2.09259221e-24  1.38854424e-03  2.66922302e-03  1.80478718e-24\n",
      "  6.73475899e-03  2.87875887e-03  5.91435130e-03 -7.34089580e-24\n",
      " -1.32942570e-24  4.91143824e-03 -5.58169561e-24  1.03021186e-03\n",
      "  9.67463067e-04  5.34107195e-03  3.03512275e-03  2.73128603e-03\n",
      "  5.53785268e-03  6.00468012e-03  2.91437030e-03 -1.36554364e-23\n",
      "  3.15568583e-24  1.05449177e-03  2.39039095e-25  4.53804044e-03\n",
      " -1.78924125e-24  3.15252193e-24  3.10716104e-03 -1.43350375e-24\n",
      "  1.74613138e-03  2.31302576e-03 -6.32045319e-25  1.88905903e-03\n",
      "  9.91623292e-03  1.61206171e-04  3.23785292e-03  1.48551940e-02\n",
      "  7.59407751e-24  7.78750604e-03  2.90465587e-03 -1.51698417e-24\n",
      "  3.43387668e-03  2.20913059e-03  7.74866964e-03  4.35087246e-24\n",
      "  5.59998488e-24 -5.84882891e-24  1.09388349e-02  7.78907412e-03\n",
      " -5.00530033e-24  3.21315857e-03  8.70405774e-24  4.00212979e-04\n",
      "  4.00430973e-03  2.55643591e-03  3.89805633e-03  3.69609167e-03\n",
      " -7.20356789e-24  6.30851621e-03  7.00712239e-24  9.12323655e-25\n",
      "  9.76951380e-24  9.99784980e-04  1.20600820e-05  4.38397635e-03\n",
      " -2.79414328e-24  1.29824707e-24 -9.76959731e-24  4.71514549e-03\n",
      "  8.56369861e-03  8.25387715e-24 -1.03293088e-23  6.09223861e-24\n",
      " -1.31943033e-23 -4.60949101e-24  2.55158562e-24  1.76449538e-03\n",
      "  4.24978667e-03  3.31356408e-04  1.03183738e-03 -1.17913056e-23\n",
      "  2.06547404e-03  2.31387001e-03 -2.37404823e-24  3.72750664e-03\n",
      "  6.25126883e-03  4.10905007e-24  7.71502064e-03  3.35722431e-03\n",
      "  4.07650467e-03  7.34945459e-03  7.01449460e-24 -5.03204930e-24\n",
      " -1.38223910e-23 -8.15555569e-24 -5.02517791e-24  2.47787163e-03\n",
      "  1.72735940e-03  3.80191802e-24  4.54777882e-03  4.37082459e-03\n",
      "  1.32978818e-24  5.23012655e-03  6.11098151e-03 -3.85116987e-24\n",
      "  2.24136371e-24  8.46620968e-04  6.09942162e-06 -3.10387634e-24\n",
      "  1.50635481e-23  5.84678978e-04  1.10260333e-23  6.65182151e-03\n",
      "  2.13291739e-24  3.89812342e-03  2.19240660e-03  6.59228660e-03\n",
      " -7.09468388e-25  2.46340322e-03  1.02493311e-02  4.76289235e-04\n",
      " -1.26853536e-23 -6.43123945e-24  1.02423050e-24 -6.19258591e-24\n",
      " -2.54041237e-24  4.09191960e-03  5.54127123e-03  3.59883725e-03\n",
      "  3.97436243e-03  8.81007984e-03  3.62812920e-03  1.06329110e-23\n",
      " -4.03257416e-24 -6.59219291e-24  7.13422231e-04  7.17255150e-03\n",
      "  5.59301589e-24  2.53528978e-03  4.83432701e-03  8.14258682e-24\n",
      "  1.72781934e-03  6.03780852e-03 -1.16438255e-23  3.16222464e-24\n",
      " -8.30052777e-24  2.69896225e-03 -3.77502986e-24  5.86845499e-03\n",
      "  3.25787311e-24  1.54211241e-03  3.96191886e-03  8.11834656e-24\n",
      "  5.25735172e-03  3.35096704e-03 -3.68310309e-24  1.12689147e-03\n",
      "  4.49096804e-03 -3.50685316e-24  4.70072647e-03  5.85297306e-03\n",
      "  5.42503055e-03  5.94351968e-24  6.00098954e-04  7.78573935e-03\n",
      "  5.25362503e-24  8.47115931e-03  7.62329437e-04 -1.05189430e-24\n",
      "  7.11276689e-03 -2.51900381e-24  2.04647642e-03 -2.56044752e-24\n",
      " -2.12126837e-23  1.74001062e-03  6.97090679e-24 -9.23200406e-24\n",
      "  1.49814249e-03  9.86654710e-25 -3.03635015e-24  5.03953744e-04\n",
      " -2.10672807e-24  3.37088756e-03  6.32744243e-05  1.32532934e-02]\n"
     ]
    }
   ],
   "source": [
    "import numpy as np\n",
    "import cvxpy as cp\n",
    "\n",
    "# Generate Sigma as a random PSD n*n matrix,  would be substituded by the covariance matrix\n",
    "# mu as a random n-vector, would be substituded by the expected return\n",
    "n = 400\n",
    "np.random.seed(1)\n",
    "mu = np.random.randn(n)\n",
    "Sigma = np.random.randn(n, n)\n",
    "lam = 1.\n",
    "Sigma_1 = P.T @ P + lam * np.identity(n)\n",
    "\n",
    "# constraints \n",
    "# h=0_n, A=1_n, b=1\n",
    "# Gw >= h equiv to w_i>=0 for all i\n",
    "# Aw = b equiv to sum(w_i)=1\n",
    "h = np.zeros(n)\n",
    "A = np.ones(n)\n",
    "b = 1\n",
    "\n",
    "# Define and solve the CVXPY problem.\n",
    "w = cp.Variable(n)\n",
    "prob = cp.Problem(cp.Minimize((1/2)*cp.quad_form(w, Sigma_1) - mu.T @ w),\n",
    "                 [w >= h,\n",
    "                  A.T @ w == b])\n",
    "prob.solve()\n",
    "\n",
    "# Print result.\n",
    "print(\"\\nThe optimal value is\", prob.value)\n",
    "print(\"A solution w is\")\n",
    "print(w.value)"
   ]
  },
  {
   "cell_type": "code",
   "execution_count": null,
   "metadata": {},
   "outputs": [],
   "source": []
  }
 ],
 "metadata": {
  "kernelspec": {
   "display_name": "mlenv",
   "language": "python",
   "name": "mlenv"
  },
  "language_info": {
   "codemirror_mode": {
    "name": "ipython",
    "version": 3
   },
   "file_extension": ".py",
   "mimetype": "text/x-python",
   "name": "python",
   "nbconvert_exporter": "python",
   "pygments_lexer": "ipython3",
   "version": "3.9.12"
  }
 },
 "nbformat": 4,
 "nbformat_minor": 2
}
